{
 "cells": [
  {
   "cell_type": "code",
   "execution_count": 38,
   "id": "ea8f13f7-49da-45e4-881c-f036669ba46b",
   "metadata": {},
   "outputs": [],
   "source": [
    "#Import packages for general python function \n",
    "import pandas as pd\n",
    "import numpy as np \n",
    "import scipy \n",
    "from scipy import stats\n",
    "from scipy.stats import sem\n",
    "import random\n",
    "\n",
    "#Import packages for running glm\n",
    "import statsmodels as sm\n",
    "import statsmodels.formula.api as smf\n",
    "from statsmodels.formula.api import mixedlm\n",
    "from statsmodels.stats.multitest import multipletests\n",
    "\n",
    "\n",
    "#import packages for graphing \n",
    "import matplotlib.pyplot as plt\n",
    "\n"
   ]
  },
  {
   "cell_type": "code",
   "execution_count": 16,
   "id": "ebb7b1b9-c27f-4160-a3b0-7b9ad1fecb3c",
   "metadata": {},
   "outputs": [
    {
     "data": {
      "text/plain": [
       "'\\nANALYSIS PLAN:\\n1. make a dataframe containing any possible relevant information regarding decoding (accuracy, time, classifier, condition)\\n2. make a list of all the peak decoding accuracies \\n3. analyze whether the peak decoding accuracies are significantly different from zero (There should be a peak in decoding accuracy, which is what I am interested in analyzing)\\n4. use a linear mixed model to determine whether the peak decoding accuracies changes depending on classifier type and condition. \\n    a.) If it is not significantly different between conditions, then minute changes in the brain do send enough information to the whole brain to decode it as well as larger changes. This would suggest that we can study processes with minute changes.\\n    b.) If there is a significant difference in decoding accuracy between conditions, then there is significantly less information avaliable in the whole brain signal regarding minute versus large changes. This would suggest that we may not \\n        be able to study processes with minute changes.\\n'"
      ]
     },
     "execution_count": 16,
     "metadata": {},
     "output_type": "execute_result"
    }
   ],
   "source": [
    "'''\n",
    "ANALYSIS PLAN:\n",
    "1. make a dataframe containing any possible relevant information regarding decoding (accuracy, time, classifier, condition)\n",
    "2. make a list of all the peak decoding accuracies \n",
    "3. analyze whether the peak decoding accuracies are significantly different from zero (There should be a peak in decoding accuracy, which is what I am interested in analyzing)\n",
    "4. use a linear mixed model to determine whether the peak decoding accuracies changes depending on classifier type and condition. \n",
    "    a.) If it is not significantly different between conditions, then minute changes in the brain do send enough information to the whole brain to decode it as well as larger changes. This would suggest that we can study processes with minute changes.\n",
    "    b.) If there is a significant difference in decoding accuracy between conditions, then there is significantly less information avaliable in the whole brain signal regarding minute versus large changes. This would suggest that we may not \n",
    "        be able to study processes with minute changes.\n",
    "'''"
   ]
  },
  {
   "cell_type": "code",
   "execution_count": 31,
   "id": "baa49ca0-ecbe-4329-a827-f8ab47a22070",
   "metadata": {},
   "outputs": [],
   "source": [
    "#Make dataframe containing all the necessary values (subjects, decoding accuracy, time, classifier, cond)\n",
    "#Define subjects \n",
    "subjects = [1,2,3,5,10,16,17,21,34]\n",
    "#Define dataframe\n",
    "df = pd.DataFrame(columns=['subject','accuracy','time','classifier','condition'])\n",
    "#Define the input path\n",
    "baseDir = '/projectsn/f_mc1689_1/cpro2_eeg/'\n",
    "inputDir_base = f'{baseDir}data/results/DynamicDecoding/'#RawOrSource/classifier/cond\n",
    "#Define directory input lists\n",
    "dataType = 'RawSensor'\n",
    "classifier = ['LDA','SVM','Random_Forest']\n",
    "conds = ['Hand', 'Right','Left']#add ,'Right','Left'\n",
    "peakAcc = [] #Make an empty list to add peak decoding accuracies to\n",
    "\n",
    "#Loop through conditions to make directory\n",
    "for clasCond in classifier:\n",
    "    for cond in conds:\n",
    "        for subjNum in subjects:\n",
    "            # 10_SubjectDecoding_10fold_Right_correctOnly_noPseudoTrials.csv\n",
    "            inputPrefix = f'_SubjectDecoding_10fold_{cond}_correctOnly_noPseudoTrials.csv'\n",
    "            path = f'{inputDir_base}{dataType}/{clasCond}/{cond}/DecodingAccuracy/{subjNum}{inputPrefix}'\n",
    "            acc = pd.read_csv(f'{path}')\n",
    "            a = np.array(acc)\n",
    "            a_max = max(a)\n",
    "            peakAcc.append(a_max) #Check a shape\n",
    "            t = np.linspace(-0.09,3.855,(acc.shape[0]))\n",
    "            newRow = pd.DataFrame({'subject': [subjNum], 'accuracy':a_max,'time':t[ind],'classifier':[clasCond],'condition':[cond]})\n",
    "            df = pd.concat([df, newRow], ignore_index=True)\n"
   ]
  },
  {
   "cell_type": "code",
   "execution_count": 32,
   "id": "17d7b06a-93ff-4dea-a167-b732510210f3",
   "metadata": {},
   "outputs": [
    {
     "name": "stdout",
     "output_type": "stream",
     "text": [
      "T Statistic: [27.84605122]\n",
      "p-value: [6.40607924e-43]\n",
      "mean: 0.7115735209880091\n",
      "As the p-value is less than 0.05, we find significant\n",
      "evidence that the decoding accuracy across conditions\n",
      "is not due to chance, and that learning did occur.\n",
      "\n",
      "T Statistic: 15.995155669348085\n",
      "p-value: 5.6787271035416175e-15\n",
      "mean: 0.7168743450932994\n",
      "As the p-value is less than 0.05, we find significant\n",
      "evidence that LDA decoding accuracy across conditions\n",
      "is not due to chance, and that learning did occur.\n",
      "\n",
      "T Statistic: 16.447900078364018\n",
      "p-value: 2.9269950304334098e-15\n",
      "mean: 0.7158243357344665\n",
      "As the p-value is less than 0.05, we find significant\n",
      "evidence that SVM decoding accuracy across conditions\n",
      "is not due to chance, and that learning did occur.\n",
      "\n",
      "T Statistic: 15.42280245901568\n",
      "p-value: 1.3423336852563325e-14\n",
      "mean: 0.7020218821362614\n",
      "As the p-value is less than 0.05, we find significant\n",
      "evidence that RF decoding accuracy across conditions\n",
      "is not due to chance, and that learning did occur.\n",
      "\n",
      "T Statistic: 32.56920260342521\n",
      "p-value: 1.318590985919258e-22\n",
      "mean: 0.649553353630151\n",
      "As the p-value is less than 0.05, we find significant\n",
      "evidence that decoding accuracy of hands\n",
      "is not due to chance, and that learning did occur.\n",
      "\n",
      "T Statistic: 20.957459879667482\n",
      "p-value: 8.260509274443509e-18\n",
      "mean: 0.7344088319088321\n",
      "As the p-value is less than 0.05, we find significant\n",
      "evidence that finger decoding accuracy of the left hand\n",
      "is not due to chance, and that learning did occur.\n",
      "\n",
      "T Statistic: 19.846429459774328\n",
      "p-value: 3.1416411954715744e-17\n",
      "mean: 0.7507583774250441\n",
      "As the p-value is less than 0.05, we find significant\n",
      "evidence that finger decoding accuracy of the right hand\n",
      "is not due to chance, and that learning did occur.\n",
      "\n"
     ]
    }
   ],
   "source": [
    "#Determine whether the peak of each decoding timeseries accuracy is significantly different from 50%\n",
    "chance = .50\n",
    "tStat_all, p_all = stats.ttest_1samp(peakAcc, chance)\n",
    "print(f'T Statistic: {tStat_all}\\np-value: {p_all}\\nmean: {np.mean(peakAcc)}')\n",
    "if p_all<0.05: print('As the p-value is less than 0.05, we find significant\\nevidence that the decoding accuracy across conditions\\nis not due to chance, and that learning did occur.\\n')\n",
    "\n",
    "#Determine whether the peak of each classifier decoding timeseries accuracy is significantly different from 50%\n",
    "peakLDA = list(df[(df['classifier'] == 'LDA')]['accuracy'])\n",
    "tStat_lda, p_lda = stats.ttest_1samp(peakLDA, chance)\n",
    "print(f'T Statistic: {tStat_lda}\\np-value: {p_lda}\\nmean: {np.mean(peakLDA)}')\n",
    "if p_lda<0.05: print('As the p-value is less than 0.05, we find significant\\nevidence that LDA decoding accuracy across conditions\\nis not due to chance, and that learning did occur.\\n')\n",
    "\n",
    "peakSVM = list(df[(df['classifier'] == 'SVM')]['accuracy'])\n",
    "tStat_SVM, p_SVM = stats.ttest_1samp(peakSVM, chance)\n",
    "print(f'T Statistic: {tStat_SVM}\\np-value: {p_SVM}\\nmean: {np.mean(peakSVM)}')\n",
    "if p_SVM<0.05: print('As the p-value is less than 0.05, we find significant\\nevidence that SVM decoding accuracy across conditions\\nis not due to chance, and that learning did occur.\\n')\n",
    "\n",
    "peakRF = list(df[(df['classifier'] == 'Random_Forest')]['accuracy'])\n",
    "tStat_RF, p_RF = stats.ttest_1samp(peakRF, chance)\n",
    "print(f'T Statistic: {tStat_RF}\\np-value: {p_RF}\\nmean: {np.mean(peakRF)}')\n",
    "if p_RF<0.05: print('As the p-value is less than 0.05, we find significant\\nevidence that RF decoding accuracy across conditions\\nis not due to chance, and that learning did occur.\\n')\n",
    "\n",
    "#Determine whether the peak of each condition decoding timeseries accuracy is significantly different from 50%\n",
    "peakHand = list(df[(df['condition'] == 'Hand')]['accuracy'])\n",
    "tStat_Hand, p_Hand = stats.ttest_1samp(peakHand, chance)\n",
    "print(f'T Statistic: {tStat_Hand}\\np-value: {p_Hand}\\nmean: {np.mean(peakHand)}')\n",
    "if p_Hand<0.05: print('As the p-value is less than 0.05, we find significant\\nevidence that decoding accuracy of hands\\nis not due to chance, and that learning did occur.\\n')\n",
    "\n",
    "peakLeft = list(df[(df['condition'] == 'Left')]['accuracy'])\n",
    "tStat_Left, p_Left = stats.ttest_1samp(peakLeft, chance)\n",
    "print(f'T Statistic: {tStat_Left}\\np-value: {p_Left}\\nmean: {np.mean(peakLeft)}')\n",
    "if p_Left<0.05: print('As the p-value is less than 0.05, we find significant\\nevidence that finger decoding accuracy of the left hand\\nis not due to chance, and that learning did occur.\\n')\n",
    "\n",
    "peakRight = list(df[(df['condition'] == 'Right')]['accuracy'])\n",
    "tStat_Right, p_Right = stats.ttest_1samp(peakRight, chance)\n",
    "print(f'T Statistic: {tStat_Right}\\np-value: {p_Right}\\nmean: {np.mean(peakRight)}')\n",
    "if p_Right<0.05: print('As the p-value is less than 0.05, we find significant\\nevidence that finger decoding accuracy of the right hand\\nis not due to chance, and that learning did occur.\\n')\n"
   ]
  },
  {
   "cell_type": "code",
   "execution_count": 34,
   "id": "6a21b060-1b2a-43b9-8ab1-db9d178bbc7c",
   "metadata": {},
   "outputs": [
    {
     "name": "stdout",
     "output_type": "stream",
     "text": [
      "\n",
      "Significant terms after FDR correction:\n",
      "The condition[T.Left] interaction was significantly different from the reference level with FDR-corrected p = 0.0022\n",
      "The condition[T.Right] interaction was significantly different from the reference level with FDR-corrected p = 0.0002\n"
     ]
    },
    {
     "name": "stderr",
     "output_type": "stream",
     "text": [
      "/home/let83/eeg_decoding_env/lib64/python3.6/site-packages/statsmodels/regression/mixed_linear_model.py:2237: ConvergenceWarning: The MLE may be on the boundary of the parameter space.\n",
      "  warnings.warn(msg, ConvergenceWarning)\n"
     ]
    }
   ],
   "source": [
    "#Use a linear mixed model to determine wehther classifier type or condition impacts accuracy decoding\n",
    "#Fit linear mixed model with random intercepts per subjects \n",
    "#will be treating time as a categorical variable because I am not expecting a linear increase in decoding accuracy. This is to find \"peaks\" in the accuracy.\n",
    "df['time_cat'] = df['time'].astype(str) \n",
    "model = mixedlm(\"accuracy ~ C(time_cat) + classifier + condition + C(time_cat):condition + classifier:condition\", df, groups=df[\"subject\"])\n",
    "result = model.fit()\n",
    "pvals = result.pvalues\n",
    "reject, pvals_corrected, _, _ = multipletests(pvals, method='fdr_bh')\n",
    "# Print model summary\n",
    "#print(result.summary())\n",
    "\n",
    "# Print all significant terms\n",
    "print(\"\\nSignificant terms after FDR correction:\")\n",
    "for i, is_sig in enumerate(reject):\n",
    "    if is_sig:\n",
    "        term = pvals.index[i]\n",
    "        pval_corr = pvals_corrected[i]\n",
    "        if term !='Intercept':\n",
    "            print(f\"The {term} interaction was significantly different from the reference level with FDR-corrected p = {pval_corr:.4f}\")\n",
    "#These results mixed with those of the t-tests/graphs below values imply that there was a significant difference in accuracy decoding\n",
    "## between finger and hand level, however, it appears as though finger decoding was greater than that of hand decoding. There were no \n",
    "## significant differences between Decoder types, implying that it does not matter which one was used to decode movements. \n"
   ]
  },
  {
   "cell_type": "code",
   "execution_count": 41,
   "id": "c59c3e29-152f-434a-b7a6-a6573d1ef1d1",
   "metadata": {},
   "outputs": [
    {
     "data": {
      "image/png": "[encoded data removed]",
      "text/plain": [
       "<Figure size 720x432 with 1 Axes>"
      ]
     },
     "metadata": {
      "needs_background": "light"
     },
     "output_type": "display_data"
    }
   ],
   "source": [
    "#Graph Condition Results \n",
    "xlabels = ['Left', 'Right', 'Hand']\n",
    "xpos = np.arange(len(xlabels))  # 0, 1, 2 for Left, Right, Hand\n",
    "\n",
    "width = 0.25  # width of each bar\n",
    "offsets = [-width, 0, width]  # SVM, LDA, Random Forest\n",
    "classifiers = ['SVM', 'LDA', 'Random_Forest']\n",
    "edgecolors = ['steelblue', 'mediumorchid', 'seagreen']\n",
    "scattercolors = ['lightskyblue', 'violet', 'mediumseagreen']\n",
    "\n",
    "plt.figure(figsize=(10, 6))\n",
    "\n",
    "for idx, (classifier, offset, edgecolor, scattercolor) in enumerate(zip(classifiers, offsets, edgecolors, scattercolors)):\n",
    "    # Extract data\n",
    "    peaksLeft = df[(df['condition'] == 'Left') & (df['classifier'] == classifier)]['accuracy'].values\n",
    "    peaksRight = df[(df['condition'] == 'Right') & (df['classifier'] == classifier)]['accuracy'].values\n",
    "    peaksHand = df[(df['condition'] == 'Hand') & (df['classifier'] == classifier)]['accuracy'].values\n",
    "    peaksConds = [np.mean(peaksLeft), np.mean(peaksRight), np.mean(peaksHand)]\n",
    "    peaksCondsSEM = [sem(peaksLeft), sem(peaksRight), sem(peaksHand)]\n",
    "\n",
    "    # Plot bars with offset\n",
    "    bar_positions = xpos + offset\n",
    "    plt.bar(bar_positions, peaksConds, yerr=peaksCondsSEM, capsize=5, width=width,\n",
    "            edgecolor=edgecolor, facecolor='none', linewidth=2, label=classifier)\n",
    "\n",
    "    # Overlay individual subject points\n",
    "    for j, condition_data in enumerate([peaksLeft, peaksRight, peaksHand]):\n",
    "        jittered_x = [xpos[j] + offset + random.uniform(-0.05, 0.05) for _ in range(len(condition_data))]\n",
    "        plt.scatter(jittered_x, condition_data, color=scattercolor, alpha=0.6)\n",
    "\n",
    "plt.xticks(xpos, xlabels, fontsize=14)\n",
    "plt.ylabel('Peak Accuracy', fontsize=14)\n",
    "plt.title('Peak Decoding Accuracy by Condition and Classifier', fontsize=15)\n",
    "plt.ylim(0.45, 0.9)\n",
    "plt.grid(axis='y', linestyle='--', alpha=0.5)\n",
    "plt.tight_layout()\n",
    "plt.legend(fontsize=13)\n",
    "plt.show()"
   ]
  },
  {
   "cell_type": "code",
   "execution_count": null,
   "id": "679ce5db-e1c8-40c3-b602-68510708f6b8",
   "metadata": {},
   "outputs": [],
   "source": []
  }
 ],
 "metadata": {
  "kernelspec": {
   "display_name": "Python (eeg_decoding_env)",
   "language": "python",
   "name": "eeg_decoding_env"
  },
  "language_info": {
   "codemirror_mode": {
    "name": "ipython",
    "version": 3
   },
   "file_extension": ".py",
   "mimetype": "text/x-python",
   "name": "python",
   "nbconvert_exporter": "python",
   "pygments_lexer": "ipython3",
   "version": "3.6.8"
  }
 },
 "nbformat": 4,
 "nbformat_minor": 5
}
